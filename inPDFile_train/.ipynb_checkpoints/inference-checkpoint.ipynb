{
 "cells": [
  {
   "cell_type": "markdown",
   "metadata": {},
   "source": [
    "Трекинг всех классов:"
   ]
  },
  {
   "cell_type": "code",
   "execution_count": 4,
   "metadata": {},
   "outputs": [
    {
     "ename": "ModuleNotFoundError",
     "evalue": "No module named 'ultralytics'",
     "output_type": "error",
     "traceback": [
      "\u001b[31m---------------------------------------------------------------------------\u001b[39m",
      "\u001b[31mModuleNotFoundError\u001b[39m                       Traceback (most recent call last)",
      "\u001b[36mCell\u001b[39m\u001b[36m \u001b[39m\u001b[32mIn[4]\u001b[39m\u001b[32m, line 3\u001b[39m\n\u001b[32m      1\u001b[39m \u001b[38;5;28;01mimport\u001b[39;00m\u001b[38;5;250m \u001b[39m\u001b[34;01mcv2\u001b[39;00m\n\u001b[32m      2\u001b[39m \u001b[38;5;28;01mimport\u001b[39;00m\u001b[38;5;250m \u001b[39m\u001b[34;01mos\u001b[39;00m\n\u001b[32m----> \u001b[39m\u001b[32m3\u001b[39m \u001b[38;5;28;01mfrom\u001b[39;00m\u001b[38;5;250m \u001b[39m\u001b[34;01multralytics\u001b[39;00m\u001b[38;5;250m \u001b[39m\u001b[38;5;28;01mimport\u001b[39;00m YOLO\n\u001b[32m      4\u001b[39m \u001b[38;5;28;01mimport\u001b[39;00m\u001b[38;5;250m \u001b[39m\u001b[34;01mnumpy\u001b[39;00m\u001b[38;5;250m \u001b[39m\u001b[38;5;28;01mas\u001b[39;00m\u001b[38;5;250m \u001b[39m\u001b[34;01mnp\u001b[39;00m\n\u001b[32m      5\u001b[39m \u001b[38;5;28;01mfrom\u001b[39;00m\u001b[38;5;250m \u001b[39m\u001b[34;01mpathlib\u001b[39;00m\u001b[38;5;250m \u001b[39m\u001b[38;5;28;01mimport\u001b[39;00m Path\n",
      "\u001b[31mModuleNotFoundError\u001b[39m: No module named 'ultralytics'"
     ]
    }
   ],
   "source": [
    "import cv2\n",
    "import os\n",
    "from ultralytics import YOLO\n",
    "import numpy as np\n",
    "from pathlib import Path\n",
    "\n",
    "# Загрузка модели\n",
    "model = YOLO('best.pt')\n",
    "model.fuse()  # Оптимизация модели для инференса"
   ]
  },
  {
   "cell_type": "markdown",
   "metadata": {},
   "source": [
    "Трекинг лишь на класс птица:"
   ]
  },
  {
   "cell_type": "code",
   "execution_count": 46,
   "metadata": {},
   "outputs": [
    {
     "name": "stderr",
     "output_type": "stream",
     "text": [
      "Model summary (fused): 218 layers, 25840918 parameters, 0 gradients, 78.7 GFLOPs\n",
      "Model summary (fused): 218 layers, 25840918 parameters, 0 gradients, 78.7 GFLOPs\n"
     ]
    }
   ],
   "source": [
    "# Вторая ячейка - функция для обработки одного изображения\n",
    "def process_single_image(image_path, conf_threshold=0.5, save_result=True):\n",
    "    \"\"\"Обработка одного изображения и отображение результатов\"\"\"\n",
    "    # Чтение изображения\n",
    "    image = cv2.imread(image_path)\n",
    "    if image is None:\n",
    "        print(f\"Ошибка: Не удалось прочитать изображение {image_path}\")\n",
    "        return\n",
    "    \n",
    "    # Получение предсказаний\n",
    "    results = model.predict(image, conf=conf_threshold, verbose=False)\n",
    "    \n",
    "    # Отрисовка результатов\n",
    "    annotated_image = results[0].plot()\n",
    "    \n",
    "    # Сохранение результата\n",
    "    if save_result:\n",
    "        output_path = str(Path(image_path).parent / 'results' / f\"result_{Path(image_path).name}\")\n",
    "        os.makedirs(Path(output_path).parent, exist_ok=True)\n",
    "        cv2.imwrite(output_path, annotated_image)\n",
    "    \n",
    "    # Отображение изображения\n",
    "    cv2.imshow('Detection Result', annotated_image)\n",
    "    cv2.waitKey(0)\n",
    "    cv2.destroyAllWindows()\n",
    "    \n",
    "    # Вывод информации о найденных объектах\n",
    "    print(f\"\\nРезультаты для {Path(image_path).name}:\")\n",
    "    for r in results:\n",
    "        boxes = r.boxes\n",
    "        for box in boxes:\n",
    "            cls = int(box.cls[0])\n",
    "            conf = float(box.conf[0])\n",
    "            class_name = model.names[cls]\n",
    "            print(f\"Обнаружен {class_name} с уверенностью {conf:.2f}\")\n",
    "\n"
   ]
  },
  {
   "cell_type": "code",
   "execution_count": null,
   "metadata": {},
   "outputs": [],
   "source": [
    "# Третья ячейка - функция для обработки директории\n",
    "def process_directory(directory_path, conf_threshold=0.5):\n",
    "    \"\"\"Обработка всех изображений в директории\"\"\"\n",
    "    # Создание директории для результатов\n",
    "    results_dir = Path(directory_path) / 'results'\n",
    "    os.makedirs(results_dir, exist_ok=True)\n",
    "    \n",
    "    # Получение списка всех изображений\n",
    "    image_extensions = ['.jpg', '.jpeg', '.png', '.bmp']\n",
    "    image_files = [f for f in os.listdir(directory_path) \n",
    "                  if os.path.isfile(os.path.join(directory_path, f)) \n",
    "                  and Path(f).suffix.lower() in image_extensions]\n",
    "    \n",
    "    print(f\"Найдено {len(image_files)} изображений для обработки\")\n",
    "    \n",
    "    # Обработка каждого изображения\n",
    "    for image_file in image_files:\n",
    "        image_path = os.path.join(directory_path, image_file)\n",
    "        print(f\"\\nОбработка {image_file}...\")\n",
    "        process_single_image(image_path, conf_threshold, save_result=True)\n"
   ]
  },
  {
   "cell_type": "code",
   "execution_count": null,
   "metadata": {},
   "outputs": [],
   "source": [
    "# Обработка всех изображений в папке dataset_proverka\n",
    "process_directory('dataset_proverka', conf_threshold=0.5)"
   ]
  }
 ],
 "metadata": {
  "kernelspec": {
   "display_name": "YOLOv8_gpu",
   "language": "python",
   "name": "python3"
  },
  "language_info": {
   "codemirror_mode": {
    "name": "ipython",
    "version": 3
   },
   "file_extension": ".py",
   "mimetype": "text/x-python",
   "name": "python",
   "nbconvert_exporter": "python",
   "pygments_lexer": "ipython3",
   "version": "3.10.13"
  }
 },
 "nbformat": 4,
 "nbformat_minor": 2
}
