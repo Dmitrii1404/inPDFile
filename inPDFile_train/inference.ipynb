{
 "cells": [
  {
   "cell_type": "markdown",
   "metadata": {},
   "source": [
    "Трекинг всех классов:"
   ]
  },
  {
   "cell_type": "code",
   "execution_count": 1,
   "metadata": {},
   "outputs": [],
   "source": [
    "# import cv2\n",
    "# import os\n",
    "# import json\n",
    "# from ultralytics import YOLO\n",
    "# import numpy as np\n",
    "# from pathlib import Path\n",
    "# from datetime import datetime\n",
    "\n",
    "# # Загрузка модели\n",
    "# model = YOLO('best.pt')\n",
    "# # model.fuse()  # Оптимизация модели для инференса"
   ]
  },
  {
   "cell_type": "code",
   "execution_count": 2,
   "metadata": {},
   "outputs": [],
   "source": [
    "# def process_directory(directory_path, conf_threshold=0.5):\n",
    "#     # Создаем папку results, если она не существует\n",
    "#     results_dir = os.path.join(directory_path, 'results')\n",
    "#     os.makedirs(results_dir, exist_ok=True)\n",
    "    \n",
    "#     results = []\n",
    "#     for filename in os.listdir(directory_path):\n",
    "#         if filename.lower().endswith(('.png', '.jpg', '.jpeg')):\n",
    "#             image_path = os.path.join(directory_path, filename)\n",
    "#             result = process_image(image_path, conf_threshold)\n",
    "#             if result:\n",
    "#                 results.append({\n",
    "#                     \"filename\": filename,\n",
    "#                     \"has_signature\": \"есть\" if result[\"has_signature\"] else \"нет\",\n",
    "#                     \"has_seal\": \"есть\" if result[\"has_seal\"] else \"нет\",\n",
    "#                     \"document_type\": \"\",\n",
    "#                     \"confidence\": {\n",
    "#                         \"signature\": round(result[\"confidence\"][\"signature\"], 2),\n",
    "#                         \"seal\": round(result[\"confidence\"][\"seal\"], 2)\n",
    "#                     }\n",
    "#                 })\n",
    "    \n",
    "#     # Сохраняем результаты в JSON файл\n",
    "#     json_path = os.path.join(results_dir, 'analysis_results.json')\n",
    "#     with open(json_path, 'w', encoding='utf-8') as f:\n",
    "#         json.dump(results, f, ensure_ascii=False, indent=2)\n",
    "    \n",
    "#     print(f\"Результаты сохранены в файл: {json_path}\")\n",
    "#     return results\n"
   ]
  },
  {
   "cell_type": "code",
   "execution_count": 1,
   "metadata": {},
   "outputs": [
    {
     "name": "stdout",
     "output_type": "stream",
     "text": [
      "Model summary (fused): 72 layers, 3,006,038 parameters, 0 gradients, 8.1 GFLOPs\n"
     ]
    }
   ],
   "source": [
    "import cv2\n",
    "import os\n",
    "import json\n",
    "from ultralytics import YOLO\n",
    "from pathlib import Path\n",
    "\n",
    "# Загрузка модели\n",
    "model = YOLO('best.pt')\n",
    "model.fuse()  # Оптимизация модели для инференса\n",
    "\n",
    "def process_directory(directory_path, conf_threshold=0.5):\n",
    "    \"\"\"Обработка всех изображений в директории и сохранение результатов в JSON\"\"\"\n",
    "    # Создание директории для результатов\n",
    "    results_dir = Path(directory_path) / 'results'\n",
    "    os.makedirs(results_dir, exist_ok=True)\n",
    "    \n",
    "    # Получение списка всех изображений\n",
    "    image_extensions = ['.jpg', '.jpeg', '.png', '.bmp']\n",
    "    image_files = [f for f in os.listdir(directory_path) \n",
    "                  if os.path.isfile(os.path.join(directory_path, f)) \n",
    "                  and Path(f).suffix.lower() in image_extensions]\n",
    "    \n",
    "    print(f\"Найдено {len(image_files)} изображений для обработки\")\n",
    "    \n",
    "    # Список для хранения результатов\n",
    "    analysis_results = []\n",
    "    \n",
    "    # Обработка каждого изображения\n",
    "    for image_file in image_files:\n",
    "        image_path = os.path.join(directory_path, image_file)\n",
    "        print(f\"\\nОбработка {image_file}...\")\n",
    "        \n",
    "        # Анализ изображения\n",
    "        result = analyze_image(image_path, conf_threshold)\n",
    "        if result:\n",
    "            analysis_results.append(result)\n",
    "    \n",
    "    # Сохранение результатов в JSON\n",
    "    json_path = results_dir / 'analysis_results.json'\n",
    "    with open(json_path, 'w', encoding='utf-8') as f:\n",
    "        json.dump(analysis_results, f, ensure_ascii=False, indent=2)\n",
    "    \n",
    "    print(f\"\\nРезультаты сохранены в файл: {json_path}\")\n",
    "    return analysis_results\n",
    "\n",
    "def analyze_image(image_path, conf_threshold=0.5):\n",
    "    \"\"\"Анализ одного изображения и определение наличия подписи/печати\"\"\"\n",
    "    # Чтение изображения\n",
    "    image = cv2.imread(image_path)\n",
    "    if image is None:\n",
    "        print(f\"Ошибка: Не удалось прочитать изображение {image_path}\")\n",
    "        return None\n",
    "    \n",
    "    # Получение предсказаний\n",
    "    results = model.predict(image, conf=conf_threshold, verbose=False)\n",
    "    \n",
    "    # Инициализация результатов анализа\n",
    "    has_signature = False\n",
    "    has_seal = False\n",
    "    \n",
    "    # Анализ результатов детекции\n",
    "    for r in results:\n",
    "        boxes = r.boxes\n",
    "        for box in boxes:\n",
    "            cls = int(box.cls[0])\n",
    "            class_name = model.names[cls]\n",
    "            \n",
    "            if class_name == 'signature':\n",
    "                has_signature = True\n",
    "            elif class_name == 'seal':\n",
    "                has_seal = True\n",
    "    \n",
    "    # Формируем результат\n",
    "    result = {\n",
    "        \"filename\": Path(image_path).name,\n",
    "        \"has_signature\": \"есть\" if has_signature else \"нет\",\n",
    "        \"has_seal\": \"есть\" if has_seal else \"нет\",\n",
    "        \"document_type\": \"\"\n",
    "    }\n",
    "    \n",
    "    return result"
   ]
  },
  {
   "cell_type": "code",
   "execution_count": 2,
   "metadata": {},
   "outputs": [
    {
     "name": "stdout",
     "output_type": "stream",
     "text": [
      "Найдено 6 изображений для обработки\n",
      "\n",
      "Обработка mS02noiFTahGtNZlRsUT5wRIKFWURYyQjbv7BxQN.jpeg...\n",
      "\n",
      "Обработка ne-vydaiut-razreshenie-na-stroitelstvo-doma--361-1518619999-podpisannyj3_pdf-3.jpg...\n",
      "\n",
      "Обработка nefras-s2-80-120-benzin-kalosha-br-2_foto_largest (1).jpg...\n",
      "\n",
      "Обработка nefras-s2-80-120-benzin-kalosha-br-2_foto_largest.jpg...\n",
      "\n",
      "Обработка notarialnoe-zaverenie-diploma-arabskii-alzhir.jpeg...\n",
      "\n",
      "Обработка notarialnyi-perevod-oae-1448x2048.jpg...\n",
      "\n",
      "Результаты сохранены в файл: dataset_proverka\\results\\analysis_results.json\n"
     ]
    },
    {
     "data": {
      "text/plain": [
       "[{'filename': 'mS02noiFTahGtNZlRsUT5wRIKFWURYyQjbv7BxQN.jpeg',\n",
       "  'has_signature': 'нет',\n",
       "  'has_seal': 'нет',\n",
       "  'document_type': ''},\n",
       " {'filename': 'ne-vydaiut-razreshenie-na-stroitelstvo-doma--361-1518619999-podpisannyj3_pdf-3.jpg',\n",
       "  'has_signature': 'есть',\n",
       "  'has_seal': 'нет',\n",
       "  'document_type': ''},\n",
       " {'filename': 'nefras-s2-80-120-benzin-kalosha-br-2_foto_largest (1).jpg',\n",
       "  'has_signature': 'есть',\n",
       "  'has_seal': 'нет',\n",
       "  'document_type': ''},\n",
       " {'filename': 'nefras-s2-80-120-benzin-kalosha-br-2_foto_largest.jpg',\n",
       "  'has_signature': 'есть',\n",
       "  'has_seal': 'нет',\n",
       "  'document_type': ''},\n",
       " {'filename': 'notarialnoe-zaverenie-diploma-arabskii-alzhir.jpeg',\n",
       "  'has_signature': 'есть',\n",
       "  'has_seal': 'нет',\n",
       "  'document_type': ''},\n",
       " {'filename': 'notarialnyi-perevod-oae-1448x2048.jpg',\n",
       "  'has_signature': 'есть',\n",
       "  'has_seal': 'нет',\n",
       "  'document_type': ''}]"
      ]
     },
     "execution_count": 2,
     "metadata": {},
     "output_type": "execute_result"
    }
   ],
   "source": [
    "# Обработка всех изображений в папке dataset_proverka\n",
    "process_directory('dataset_proverka', conf_threshold=0.5)"
   ]
  },
  {
   "cell_type": "code",
   "execution_count": null,
   "metadata": {},
   "outputs": [],
   "source": []
  }
 ],
 "metadata": {
  "kernelspec": {
   "display_name": "Python 3 (ipykernel)",
   "language": "python",
   "name": "python3"
  },
  "language_info": {
   "codemirror_mode": {
    "name": "ipython",
    "version": 3
   },
   "file_extension": ".py",
   "mimetype": "text/x-python",
   "name": "python",
   "nbconvert_exporter": "python",
   "pygments_lexer": "ipython3",
   "version": "3.13.0"
  }
 },
 "nbformat": 4,
 "nbformat_minor": 4
}
